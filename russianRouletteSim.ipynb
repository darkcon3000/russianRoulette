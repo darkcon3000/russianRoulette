{
 "cells": [
  {
   "cell_type": "code",
   "execution_count": 113,
   "metadata": {},
   "outputs": [],
   "source": [
    "import random\n",
    "import math\n",
    "from statistics import mean\n",
    "import statistics\n",
    "import pandas as pd\n",
    "import numpy as np\n",
    "import matplotlib\n",
    "import matplotlib.pyplot as plt\n",
    "from scipy.stats import norm\n",
    "import scipy.stats as stats\n",
    "import pylab as pl"
   ]
  },
  {
   "cell_type": "code",
   "execution_count": 114,
   "metadata": {},
   "outputs": [],
   "source": [
    "## Creates our gun\n",
    "def spinRevolver():\n",
    "    spin = random.randint(1,6)\n",
    "    if spin == 6:\n",
    "        #print(spin,'Loss')\n",
    "        return False\n",
    "    else:\n",
    "        #print(spin, 'Win')\n",
    "        return True"
   ]
  },
  {
   "cell_type": "code",
   "execution_count": 115,
   "metadata": {},
   "outputs": [],
   "source": [
    "#spin tester\n",
    "x = 100\n",
    "while x < 100:\n",
    "    result = spinRevolver()\n",
    "    print(result)\n",
    "    x+= 1"
   ]
  },
  {
   "cell_type": "code",
   "execution_count": 116,
   "metadata": {},
   "outputs": [],
   "source": [
    "#creates the russian roulette game\n",
    "def russianRoulette(gameLength):\n",
    "    currentRound = 0\n",
    "    x = []\n",
    "    y = []\n",
    "    live = 0\n",
    "    #wager = initialWager\n",
    "    while (currentRound <= gameLength) and (live >= 0):\n",
    "        if spinRevolver():\n",
    "            live = 1\n",
    "            #funds += wager\n",
    "        else:\n",
    "            live = -1\n",
    "            #funds = 0\n",
    "        x.append(currentRound)\n",
    "        #y.append(funds)\n",
    "        currentRound += 1\n",
    "    #plt.plot(x,y)\n",
    "    return (currentRound)"
   ]
  },
  {
   "cell_type": "code",
   "execution_count": 117,
   "metadata": {},
   "outputs": [],
   "source": [
    "# creates our simulator, visualizations, and statistics\n",
    "def simRussianRoulette(playerCount,gameLength):\n",
    "    x = 0\n",
    "    lifeSpan = []\n",
    "    while x < playerCount:\n",
    "        lifeSpan.append(russianRoulette(gameLength))\n",
    "        x+=1\n",
    "    df = pd.DataFrame(lifeSpan)\n",
    "    #plt.ylabel('Funds')\n",
    "    #plt.xlabel('Game Length')\n",
    "    #plt.show()\n",
    "    ls = sorted(lifeSpan)\n",
    "    fit = stats.norm.pdf(ls, np.mean(ls), np.std(ls))\n",
    "    #mn = mean(lifeSpan)\n",
    "    #std = statistics.stdev(lifeSpan)\n",
    "    # Mean = 0, SD = 2.\n",
    "    pl.plot(ls,fit,'-o')\n",
    "\n",
    "    pl.hist(ls,normed=True) \n",
    "    #plt.plot(lifeSpan, norm.pdf(lifeSpan,mn,std))\n",
    "    #plt.savefig('RRSim.png',dpi=800)\n",
    "    pl.savefig('RRSim.png',dpi=800)\n",
    "    print(df.describe())\n",
    "    #print(df.describe())"
   ]
  },
  {
   "cell_type": "code",
   "execution_count": 118,
   "metadata": {},
   "outputs": [
    {
     "name": "stdout",
     "output_type": "stream",
     "text": [
      "How many players? (int)1000\n",
      "Maximum number of rounds? (int)1000\n"
     ]
    },
    {
     "name": "stderr",
     "output_type": "stream",
     "text": [
      "C:\\Anaconda\\lib\\site-packages\\matplotlib\\axes\\_axes.py:6521: MatplotlibDeprecationWarning: \n",
      "The 'normed' kwarg was deprecated in Matplotlib 2.1 and will be removed in 3.1. Use 'density' instead.\n",
      "  alternative=\"'density'\", removal=\"3.1\")\n"
     ]
    },
    {
     "name": "stdout",
     "output_type": "stream",
     "text": [
      "                 0\n",
      "count  1000.000000\n",
      "mean      6.304000\n",
      "std       5.705448\n",
      "min       1.000000\n",
      "25%       2.000000\n",
      "50%       5.000000\n",
      "75%       9.000000\n",
      "max      48.000000\n"
     ]
    },
    {
     "data": {
      "image/png": "[encoded data removed]",
      "text/plain": [
       "<Figure size 432x288 with 1 Axes>"
      ]
     },
     "metadata": {
      "needs_background": "light"
     },
     "output_type": "display_data"
    }
   ],
   "source": [
    "playerCount = input(\"How many players? (int)\")\n",
    "gameLength = input(\"Maximum number of rounds? (int)\")\n",
    "playerCount = int(playerCount)\n",
    "gameLength = int(gameLength)\n",
    "simRussianRoulette(playerCount,gameLength)"
   ]
  },
  {
   "cell_type": "code",
   "execution_count": null,
   "metadata": {},
   "outputs": [],
   "source": []
  }
 ],
 "metadata": {
  "kernelspec": {
   "display_name": "Python 3",
   "language": "python",
   "name": "python3"
  },
  "language_info": {
   "codemirror_mode": {
    "name": "ipython",
    "version": 3
   },
   "file_extension": ".py",
   "mimetype": "text/x-python",
   "name": "python",
   "nbconvert_exporter": "python",
   "pygments_lexer": "ipython3",
   "version": "3.7.1"
  }
 },
 "nbformat": 4,
 "nbformat_minor": 2
}
